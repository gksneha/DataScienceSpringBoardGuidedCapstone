{
 "cells": [
  {
   "cell_type": "markdown",
   "id": "98b64e54",
   "metadata": {},
   "source": [
    "# __Table of Contents__"
   ]
  },
  {
   "cell_type": "markdown",
   "id": "d2a66042",
   "metadata": {},
   "source": [
    " 1. Loading Data\n",
    " - __Get info from df dataset__\n",
    " -  __Get info from df_engagement dataset__\n",
    " 2. Data Wrangling\n",
    " 3. Exploratory Data Analysis (EDA)\n",
    " - Percentage of the users are adopted\n",
    " - Analyze adopted opted_in_mailing_list with adopted users\n",
    " - Analyze enable_for_marketing_drip vs adopted_user\n",
    " - Analyze invited vs adopted_users\n",
    " - Analyze creation_source vs adopted_user\n",
    " - Analyze email domain with adopted users\n",
    " 4. Feature Engineering\n",
    " 5. Model Building\n",
    " - Logistic Regression\n",
    " - Support Vector Machine\n",
    " - Random Forest Classifier\n",
    " - Random Forest Classifier with Grid Searh CV\n",
    " - Gradient Boosting Classifier\n",
    " - Feature Importance\n",
    " - Conclusion"
   ]
  },
  {
   "cell_type": "markdown",
   "id": "ae320666",
   "metadata": {},
   "source": [
    "# 1. Loading Data"
   ]
  },
  {
   "cell_type": "code",
   "execution_count": 2,
   "id": "0d42f246",
   "metadata": {},
   "outputs": [
    {
     "name": "stdout",
     "output_type": "stream",
     "text": [
      "Collecting ydata-profiling\n",
      "  Downloading ydata_profiling-4.8.3-py2.py3-none-any.whl (359 kB)\n",
      "                                              0.0/359.5 kB ? eta -:--:--\n",
      "     -                                        10.2/359.5 kB ? eta -:--:--\n",
      "     ----                                 41.0/359.5 kB 393.8 kB/s eta 0:00:01\n",
      "     ---------                            92.2/359.5 kB 751.6 kB/s eta 0:00:01\n",
      "     ------------------------------------  358.4/359.5 kB 2.2 MB/s eta 0:00:01\n",
      "     ------------------------------------- 359.5/359.5 kB 2.0 MB/s eta 0:00:00\n",
      "Requirement already satisfied: scipy<1.14,>=1.4.1 in c:\\users\\khara\\anaconda3\\lib\\site-packages (from ydata-profiling) (1.10.1)\n",
      "Requirement already satisfied: pandas!=1.4.0,<3,>1.1 in c:\\users\\khara\\anaconda3\\lib\\site-packages (from ydata-profiling) (2.2.2)\n",
      "Requirement already satisfied: matplotlib<3.9,>=3.2 in c:\\users\\khara\\anaconda3\\lib\\site-packages (from ydata-profiling) (3.7.1)\n",
      "Requirement already satisfied: pydantic>=2 in c:\\users\\khara\\anaconda3\\lib\\site-packages (from ydata-profiling) (2.5.3)\n",
      "Requirement already satisfied: PyYAML<6.1,>=5.0.0 in c:\\users\\khara\\anaconda3\\lib\\site-packages (from ydata-profiling) (6.0)\n",
      "Requirement already satisfied: jinja2<3.2,>=2.11.1 in c:\\users\\khara\\anaconda3\\lib\\site-packages (from ydata-profiling) (3.1.2)\n",
      "Collecting visions[type_image_path]<0.7.7,>=0.7.5 (from ydata-profiling)\n",
      "  Downloading visions-0.7.6-py3-none-any.whl (104 kB)\n",
      "                                              0.0/104.8 kB ? eta -:--:--\n",
      "     ------------------------------------- 104.8/104.8 kB 6.3 MB/s eta 0:00:00\n",
      "Requirement already satisfied: numpy<2,>=1.16.0 in c:\\users\\khara\\anaconda3\\lib\\site-packages (from ydata-profiling) (1.24.3)\n",
      "Collecting htmlmin==0.1.12 (from ydata-profiling)\n",
      "  Downloading htmlmin-0.1.12.tar.gz (19 kB)\n",
      "  Preparing metadata (setup.py): started\n",
      "  Preparing metadata (setup.py): finished with status 'done'\n",
      "Collecting phik<0.13,>=0.11.1 (from ydata-profiling)\n",
      "  Downloading phik-0.12.4-cp311-cp311-win_amd64.whl (667 kB)\n",
      "                                              0.0/667.1 kB ? eta -:--:--\n",
      "     ------------                          225.3/667.1 kB 4.6 MB/s eta 0:00:01\n",
      "     ---------------                       276.5/667.1 kB 2.8 MB/s eta 0:00:01\n",
      "     ------------------------------------- 667.1/667.1 kB 5.3 MB/s eta 0:00:00\n",
      "Requirement already satisfied: requests<3,>=2.24.0 in c:\\users\\khara\\anaconda3\\lib\\site-packages (from ydata-profiling) (2.29.0)\n",
      "Requirement already satisfied: tqdm<5,>=4.48.2 in c:\\users\\khara\\anaconda3\\lib\\site-packages (from ydata-profiling) (4.65.0)\n",
      "Requirement already satisfied: seaborn<0.14,>=0.10.1 in c:\\users\\khara\\anaconda3\\lib\\site-packages (from ydata-profiling) (0.12.2)\n",
      "Collecting multimethod<2,>=1.4 (from ydata-profiling)\n",
      "  Downloading multimethod-1.11.2-py3-none-any.whl (10 kB)\n",
      "Requirement already satisfied: statsmodels<1,>=0.13.2 in c:\\users\\khara\\anaconda3\\lib\\site-packages (from ydata-profiling) (0.13.5)\n",
      "Collecting typeguard<5,>=3 (from ydata-profiling)\n",
      "  Downloading typeguard-4.3.0-py3-none-any.whl (35 kB)\n",
      "Collecting imagehash==4.3.1 (from ydata-profiling)\n",
      "  Downloading ImageHash-4.3.1-py2.py3-none-any.whl (296 kB)\n",
      "                                              0.0/296.5 kB ? eta -:--:--\n",
      "     ----------------------------------    276.5/296.5 kB 8.6 MB/s eta 0:00:01\n",
      "     ------------------------------------- 296.5/296.5 kB 6.1 MB/s eta 0:00:00\n",
      "Requirement already satisfied: wordcloud>=1.9.1 in c:\\users\\khara\\anaconda3\\lib\\site-packages (from ydata-profiling) (1.9.3)\n",
      "Collecting dacite>=1.8 (from ydata-profiling)\n",
      "  Downloading dacite-1.8.1-py3-none-any.whl (14 kB)\n",
      "Requirement already satisfied: numba<1,>=0.56.0 in c:\\users\\khara\\anaconda3\\lib\\site-packages (from ydata-profiling) (0.57.0)\n",
      "Requirement already satisfied: PyWavelets in c:\\users\\khara\\anaconda3\\lib\\site-packages (from imagehash==4.3.1->ydata-profiling) (1.4.1)\n",
      "Requirement already satisfied: pillow in c:\\users\\khara\\anaconda3\\lib\\site-packages (from imagehash==4.3.1->ydata-profiling) (10.3.0)\n",
      "Requirement already satisfied: MarkupSafe>=2.0 in c:\\users\\khara\\anaconda3\\lib\\site-packages (from jinja2<3.2,>=2.11.1->ydata-profiling) (2.1.1)\n",
      "Requirement already satisfied: contourpy>=1.0.1 in c:\\users\\khara\\anaconda3\\lib\\site-packages (from matplotlib<3.9,>=3.2->ydata-profiling) (1.0.5)\n",
      "Requirement already satisfied: cycler>=0.10 in c:\\users\\khara\\anaconda3\\lib\\site-packages (from matplotlib<3.9,>=3.2->ydata-profiling) (0.11.0)\n",
      "Requirement already satisfied: fonttools>=4.22.0 in c:\\users\\khara\\anaconda3\\lib\\site-packages (from matplotlib<3.9,>=3.2->ydata-profiling) (4.25.0)\n",
      "Requirement already satisfied: kiwisolver>=1.0.1 in c:\\users\\khara\\anaconda3\\lib\\site-packages (from matplotlib<3.9,>=3.2->ydata-profiling) (1.4.4)\n",
      "Requirement already satisfied: packaging>=20.0 in c:\\users\\khara\\anaconda3\\lib\\site-packages (from matplotlib<3.9,>=3.2->ydata-profiling) (23.0)\n",
      "Requirement already satisfied: pyparsing>=2.3.1 in c:\\users\\khara\\anaconda3\\lib\\site-packages (from matplotlib<3.9,>=3.2->ydata-profiling) (3.0.9)\n",
      "Requirement already satisfied: python-dateutil>=2.7 in c:\\users\\khara\\anaconda3\\lib\\site-packages (from matplotlib<3.9,>=3.2->ydata-profiling) (2.8.2)\n",
      "Requirement already satisfied: llvmlite<0.41,>=0.40.0dev0 in c:\\users\\khara\\anaconda3\\lib\\site-packages (from numba<1,>=0.56.0->ydata-profiling) (0.40.0)\n",
      "Requirement already satisfied: pytz>=2020.1 in c:\\users\\khara\\anaconda3\\lib\\site-packages (from pandas!=1.4.0,<3,>1.1->ydata-profiling) (2022.7)\n",
      "Requirement already satisfied: tzdata>=2022.7 in c:\\users\\khara\\anaconda3\\lib\\site-packages (from pandas!=1.4.0,<3,>1.1->ydata-profiling) (2024.1)\n",
      "Requirement already satisfied: joblib>=0.14.1 in c:\\users\\khara\\anaconda3\\lib\\site-packages (from phik<0.13,>=0.11.1->ydata-profiling) (1.2.0)\n",
      "Requirement already satisfied: annotated-types>=0.4.0 in c:\\users\\khara\\anaconda3\\lib\\site-packages (from pydantic>=2->ydata-profiling) (0.6.0)\n",
      "Requirement already satisfied: pydantic-core==2.14.6 in c:\\users\\khara\\anaconda3\\lib\\site-packages (from pydantic>=2->ydata-profiling) (2.14.6)\n",
      "Requirement already satisfied: typing-extensions>=4.6.1 in c:\\users\\khara\\anaconda3\\lib\\site-packages (from pydantic>=2->ydata-profiling) (4.6.3)\n",
      "Requirement already satisfied: charset-normalizer<4,>=2 in c:\\users\\khara\\anaconda3\\lib\\site-packages (from requests<3,>=2.24.0->ydata-profiling) (2.0.4)\n",
      "Requirement already satisfied: idna<4,>=2.5 in c:\\users\\khara\\anaconda3\\lib\\site-packages (from requests<3,>=2.24.0->ydata-profiling) (3.4)\n",
      "Requirement already satisfied: urllib3<1.27,>=1.21.1 in c:\\users\\khara\\anaconda3\\lib\\site-packages (from requests<3,>=2.24.0->ydata-profiling) (1.26.16)\n",
      "Requirement already satisfied: certifi>=2017.4.17 in c:\\users\\khara\\anaconda3\\lib\\site-packages (from requests<3,>=2.24.0->ydata-profiling) (2024.2.2)\n",
      "Requirement already satisfied: patsy>=0.5.2 in c:\\users\\khara\\anaconda3\\lib\\site-packages (from statsmodels<1,>=0.13.2->ydata-profiling) (0.5.3)\n",
      "Requirement already satisfied: colorama in c:\\users\\khara\\anaconda3\\lib\\site-packages (from tqdm<5,>=4.48.2->ydata-profiling) (0.4.6)\n",
      "Collecting typing-extensions>=4.6.1 (from pydantic>=2->ydata-profiling)\n",
      "  Downloading typing_extensions-4.12.1-py3-none-any.whl (37 kB)\n",
      "Requirement already satisfied: attrs>=19.3.0 in c:\\users\\khara\\anaconda3\\lib\\site-packages (from visions[type_image_path]<0.7.7,>=0.7.5->ydata-profiling) (22.1.0)\n",
      "Requirement already satisfied: networkx>=2.4 in c:\\users\\khara\\anaconda3\\lib\\site-packages (from visions[type_image_path]<0.7.7,>=0.7.5->ydata-profiling) (2.8.4)\n",
      "Requirement already satisfied: six in c:\\users\\khara\\anaconda3\\lib\\site-packages (from patsy>=0.5.2->statsmodels<1,>=0.13.2->ydata-profiling) (1.16.0)\n",
      "Building wheels for collected packages: htmlmin\n",
      "  Building wheel for htmlmin (setup.py): started\n",
      "  Building wheel for htmlmin (setup.py): finished with status 'done'\n",
      "  Created wheel for htmlmin: filename=htmlmin-0.1.12-py3-none-any.whl size=27092 sha256=5ab6af8fc86c614050b655f29128c00ebf509723c7d1284a464f082b70ebe6c8\n",
      "  Stored in directory: c:\\users\\khara\\appdata\\local\\pip\\cache\\wheels\\8d\\55\\1a\\19cd535375ed1ede0c996405ebffe34b196d78e2d9545723a2\n",
      "Successfully built htmlmin\n",
      "Installing collected packages: htmlmin, typing-extensions, multimethod, dacite, typeguard, imagehash, visions, phik, ydata-profiling\n",
      "  Attempting uninstall: typing-extensions\n",
      "    Found existing installation: typing_extensions 4.6.3\n",
      "    Uninstalling typing_extensions-4.6.3:\n",
      "      Successfully uninstalled typing_extensions-4.6.3\n",
      "Successfully installed dacite-1.8.1 htmlmin-0.1.12 imagehash-4.3.1 multimethod-1.11.2 phik-0.12.4 typeguard-4.3.0 typing-extensions-4.12.1 visions-0.7.6 ydata-profiling-4.8.3\n"
     ]
    }
   ],
   "source": [
    "! pip install ydata-profiling"
   ]
  },
  {
   "cell_type": "code",
   "execution_count": 4,
   "id": "02bc8bcc",
   "metadata": {},
   "outputs": [],
   "source": [
    "import pandas            as pd \n",
    "import numpy             as np\n",
    "import seaborn           as sns\n",
    "import matplotlib.pyplot as plt\n",
    "\n",
    "sns.set(style='whitegrid')\n",
    "%matplotlib inline\n",
    "\n",
    "import statsmodels.api        as sm\n",
    "import datetime               as dt\n",
    "import calendar\n",
    "import traceback\n",
    "import string\n",
    "import ydata_profiling\n",
    "import time\n",
    "\n",
    "\n",
    "from sklearn.ensemble     import GradientBoostingClassifier\n",
    "from sklearn.ensemble     import RandomForestClassifier\n",
    "from sklearn.linear_model import LogisticRegression\n",
    "\n",
    "\n",
    "from sklearn           import metrics\n",
    "from sklearn.svm       import SVC\n",
    "from sklearn.metrics   import roc_curve, auc, accuracy_score\n",
    "from sklearn.metrics   import confusion_matrix,f1_score\n",
    "from sklearn.metrics   import classification_report\n",
    "from sklearn.metrics   import log_loss ,recall_score\n",
    "from sklearn.metrics   import average_precision_score,precision_score\n",
    "from sklearn.metrics   import roc_auc_score, precision_score, recall_score, accuracy_score, f1_score\n",
    "\n",
    "from sklearn.preprocessing     import StandardScaler\n",
    "from sklearn.model_selection   import GridSearchCV, KFold \n",
    "from sklearn.model_selection   import train_test_split\n",
    "from sklearn.model_selection   import cross_val_score\n",
    "\n",
    "from sklearn.feature_selection import SelectKBest, chi2\n",
    "from sklearn.pipeline          import Pipeline\n",
    "\n",
    "import warnings\n",
    "warnings.filterwarnings('ignore')"
   ]
  },
  {
   "cell_type": "code",
   "execution_count": 9,
   "id": "eed0a481",
   "metadata": {},
   "outputs": [],
   "source": [
    "# Read dataset\n",
    "\n",
    "df = pd.read_csv('./takehome_users.csv',parse_dates=['creation_time'],encoding='latin-1')\n",
    "\n",
    "df_engagement = pd.read_csv('./takehome_user_engagement.csv',parse_dates=['time_stamp'], encoding='latin-1')"
   ]
  },
  {
   "cell_type": "markdown",
   "id": "2532ad15",
   "metadata": {},
   "source": [
    "##  Get info from df dataset"
   ]
  },
  {
   "cell_type": "code",
   "execution_count": 10,
   "id": "ec2520f3",
   "metadata": {},
   "outputs": [
    {
     "data": {
      "text/html": [
       "<div>\n",
       "<style scoped>\n",
       "    .dataframe tbody tr th:only-of-type {\n",
       "        vertical-align: middle;\n",
       "    }\n",
       "\n",
       "    .dataframe tbody tr th {\n",
       "        vertical-align: top;\n",
       "    }\n",
       "\n",
       "    .dataframe thead th {\n",
       "        text-align: right;\n",
       "    }\n",
       "</style>\n",
       "<table border=\"1\" class=\"dataframe\">\n",
       "  <thead>\n",
       "    <tr style=\"text-align: right;\">\n",
       "      <th></th>\n",
       "      <th>object_id</th>\n",
       "      <th>creation_time</th>\n",
       "      <th>name</th>\n",
       "      <th>email</th>\n",
       "      <th>creation_source</th>\n",
       "      <th>last_session_creation_time</th>\n",
       "      <th>opted_in_to_mailing_list</th>\n",
       "      <th>enabled_for_marketing_drip</th>\n",
       "      <th>org_id</th>\n",
       "      <th>invited_by_user_id</th>\n",
       "    </tr>\n",
       "  </thead>\n",
       "  <tbody>\n",
       "    <tr>\n",
       "      <th>9203</th>\n",
       "      <td>9204</td>\n",
       "      <td>2014-05-02 12:31:23</td>\n",
       "      <td>Iversen Christina</td>\n",
       "      <td>ChristinaEIversen@hotmail.com</td>\n",
       "      <td>SIGNUP</td>\n",
       "      <td>1.399207e+09</td>\n",
       "      <td>0</td>\n",
       "      <td>0</td>\n",
       "      <td>60</td>\n",
       "      <td>NaN</td>\n",
       "    </tr>\n",
       "  </tbody>\n",
       "</table>\n",
       "</div>"
      ],
      "text/plain": [
       "      object_id       creation_time               name  \\\n",
       "9203       9204 2014-05-02 12:31:23  Iversen Christina   \n",
       "\n",
       "                              email creation_source  \\\n",
       "9203  ChristinaEIversen@hotmail.com          SIGNUP   \n",
       "\n",
       "      last_session_creation_time  opted_in_to_mailing_list  \\\n",
       "9203                1.399207e+09                         0   \n",
       "\n",
       "      enabled_for_marketing_drip  org_id  invited_by_user_id  \n",
       "9203                           0      60                 NaN  "
      ]
     },
     "execution_count": 10,
     "metadata": {},
     "output_type": "execute_result"
    }
   ],
   "source": [
    "# Data information \n",
    "\n",
    "## Pandas_profiling Pandas profiling is an open source Python module with \n",
    "## which we can quickly do an exploratory data analysis with just a few lines of code.\n",
    "\n",
    "df.describe\n",
    "                                \n",
    "df.sample()\n",
    "\n",
    "                                     # as alternate way we can use \n",
    "    \n",
    "                                    ## pandas_profiling.ProfileReport(df)"
   ]
  },
  {
   "cell_type": "code",
   "execution_count": 11,
   "id": "b666b922",
   "metadata": {},
   "outputs": [],
   "source": [
    "# convert unix timestamp of last login to a datetime object\n",
    "df['last_session_creation_time'] = pd.to_datetime(df['last_session_creation_time'], unit='s')"
   ]
  },
  {
   "cell_type": "code",
   "execution_count": 12,
   "id": "445381b6",
   "metadata": {},
   "outputs": [
    {
     "name": "stdout",
     "output_type": "stream",
     "text": [
      "<class 'pandas.core.frame.DataFrame'>\n",
      "RangeIndex: 12000 entries, 0 to 11999\n",
      "Data columns (total 10 columns):\n",
      " #   Column                      Non-Null Count  Dtype         \n",
      "---  ------                      --------------  -----         \n",
      " 0   object_id                   12000 non-null  int64         \n",
      " 1   creation_time               12000 non-null  datetime64[ns]\n",
      " 2   name                        12000 non-null  object        \n",
      " 3   email                       12000 non-null  object        \n",
      " 4   creation_source             12000 non-null  object        \n",
      " 5   last_session_creation_time  8823 non-null   datetime64[ns]\n",
      " 6   opted_in_to_mailing_list    12000 non-null  int64         \n",
      " 7   enabled_for_marketing_drip  12000 non-null  int64         \n",
      " 8   org_id                      12000 non-null  int64         \n",
      " 9   invited_by_user_id          6417 non-null   float64       \n",
      "dtypes: datetime64[ns](2), float64(1), int64(4), object(3)\n",
      "memory usage: 937.6+ KB\n"
     ]
    }
   ],
   "source": [
    "df.info()"
   ]
  },
  {
   "cell_type": "markdown",
   "id": "7b5ed386",
   "metadata": {},
   "source": [
    "##  Get info from df_engagement dataset"
   ]
  },
  {
   "cell_type": "code",
   "execution_count": 13,
   "id": "c8d86c62",
   "metadata": {},
   "outputs": [
    {
     "name": "stdout",
     "output_type": "stream",
     "text": [
      "           time_stamp  user_id  visited\n",
      "0 2014-04-22 03:53:30        1        1\n",
      "1 2013-11-15 03:45:04        2        1\n",
      "2 2013-11-29 03:45:04        2        1\n",
      "3 2013-12-09 03:45:04        2        1\n",
      "4 2013-12-25 03:45:04        2        1\n"
     ]
    }
   ],
   "source": [
    "# Display head of dataset\n",
    "\n",
    "print(df_engagement.head())\n",
    "\n",
    "#####pandas_profiling.ProfileReport(df_engagement)"
   ]
  },
  {
   "cell_type": "code",
   "execution_count": 14,
   "id": "0dde6723",
   "metadata": {},
   "outputs": [
    {
     "name": "stdout",
     "output_type": "stream",
     "text": [
      "<class 'pandas.core.frame.DataFrame'>\n",
      "RangeIndex: 207917 entries, 0 to 207916\n",
      "Data columns (total 3 columns):\n",
      " #   Column      Non-Null Count   Dtype         \n",
      "---  ------      --------------   -----         \n",
      " 0   time_stamp  207917 non-null  datetime64[ns]\n",
      " 1   user_id     207917 non-null  int64         \n",
      " 2   visited     207917 non-null  int64         \n",
      "dtypes: datetime64[ns](1), int64(2)\n",
      "memory usage: 4.8 MB\n",
      "None\n"
     ]
    }
   ],
   "source": [
    "print(df_engagement.info())"
   ]
  },
  {
   "cell_type": "markdown",
   "id": "7c05a275",
   "metadata": {},
   "source": [
    "## 2. Data Wrangling"
   ]
  },
  {
   "cell_type": "markdown",
   "id": "7a0b79f4",
   "metadata": {},
   "source": [
    "The goal of this data science challenge is to predict 'adopted user' and adopted user is defined as a user who has logged into the product on three separate days in at least one seven-day period. The takehome_user_engagement dataset or the engagement dataframe here would be used to determine whether a user is adopted or not."
   ]
  },
  {
   "cell_type": "code",
   "execution_count": 15,
   "id": "f01710d8",
   "metadata": {},
   "outputs": [
    {
     "name": "stdout",
     "output_type": "stream",
     "text": [
      "There are 8823 users who have ever used the application.\n",
      "There are 12000 users who signed up for the application.\n",
      "There are 3177 inactive users.\n",
      "There are 2248 users who logged in at least 3 times.\n"
     ]
    }
   ],
   "source": [
    "# count how many users have each dataset\n",
    "\n",
    "print('There are {} users who have ever used the application.'\n",
    "      .format(df_engagement['user_id'].nunique()))\n",
    "\n",
    "print('There are {} users who signed up for the application.'\n",
    "      .format(df['object_id'].nunique()))\n",
    "\n",
    "print('There are {} inactive users.'\n",
    "      .format(df['object_id'].nunique()-df_engagement['user_id'].nunique()))\n",
    "\n",
    "# Take down users who loggen in 3 times in total\n",
    "least3_logins = df_engagement.groupby('user_id').filter(lambda x: len(x)>=3)\n",
    "print('There are {} users who logged in at least 3 times.'\n",
    "      .format(least3_logins['user_id'].nunique()))"
   ]
  },
  {
   "cell_type": "code",
   "execution_count": 16,
   "id": "66b9d187",
   "metadata": {},
   "outputs": [],
   "source": [
    "# convert time_stamp to a datetime object\n",
    "\n",
    "df_engagement['time_stamp'] = pd.to_datetime(df_engagement['time_stamp']) - pd.to_timedelta(7,unit='d')\n",
    "\n",
    "# initiate a week as days\n",
    "days = ['MON','TUE','WED','THU','FRI','SAT','SUN']\n",
    "\n",
    "\n",
    "\n",
    "# Finding how many of the 2248 unique three-logins users are adopted users \n",
    "# who have logged in three separate days in at least one 7 day period \n",
    "\n",
    "user_days=pd.Series([])\n",
    "\n",
    "for day in days :\n",
    "    s = df_engagement.groupby(['user_id',pd.Grouper(key='time_stamp',freq='W-'+day)]\n",
    "                             )['visited'].count().reset_index().sort_values('user_id')\n",
    "    \n",
    "    s =s.groupby('user_id')['visited'].max()\n",
    "   \n",
    "    if len(user_days) == 0:\n",
    "        user_days = s\n",
    "    \n",
    "    else :\n",
    "        user_days = pd.DataFrame([user_days,s]).max()"
   ]
  },
  {
   "cell_type": "code",
   "execution_count": 17,
   "id": "67abfad7",
   "metadata": {},
   "outputs": [
    {
     "name": "stdout",
     "output_type": "stream",
     "text": [
      "user_id\n",
      "1    1\n",
      "2    3\n",
      "3    1\n",
      "4    1\n",
      "5    1\n",
      "dtype: int64\n"
     ]
    }
   ],
   "source": [
    "print(user_days.head())"
   ]
  },
  {
   "cell_type": "code",
   "execution_count": 18,
   "id": "071f94f2",
   "metadata": {},
   "outputs": [],
   "source": [
    "df['adopted_users'] = df['object_id'].apply(lambda x : 'adopted user' if x in user_days and user_days[x] >=3 else 'not adopted user')"
   ]
  },
  {
   "cell_type": "code",
   "execution_count": 19,
   "id": "415d2282",
   "metadata": {},
   "outputs": [
    {
     "data": {
      "text/plain": [
       "adopted_users\n",
       "not adopted user    10398\n",
       "adopted user         1602\n",
       "Name: count, dtype: int64"
      ]
     },
     "execution_count": 19,
     "metadata": {},
     "output_type": "execute_result"
    }
   ],
   "source": [
    "# Print how many users adopted or not.\n",
    "df['adopted_users'].value_counts()"
   ]
  },
  {
   "cell_type": "code",
   "execution_count": 24,
   "id": "4c91449e",
   "metadata": {},
   "outputs": [
    {
     "data": {
      "text/plain": [
       "invited\n",
       "1    6417\n",
       "0    5583\n",
       "Name: count, dtype: int64"
      ]
     },
     "execution_count": 24,
     "metadata": {},
     "output_type": "execute_result"
    }
   ],
   "source": [
    "# Invited_by_user_id looks float but it should be int \n",
    "## convert invited_by_user_id astype float to int\n",
    "\n",
    "\n",
    "df['invited']=df['invited_by_user_id'].apply(lambda x: 0 if np.isnan(x) else 1)\n",
    "\n",
    "df.invited.value_counts()\n",
    "\n",
    "### Alternative way to using invited _users.\n",
    "# invited_users = df[df['invited_by_user_id'].notnull()]['invited_by_user_id'].astype('int')\n",
    "# invited_users = pd.Series(1, index = invited_users)"
   ]
  },
  {
   "cell_type": "markdown",
   "id": "d4c4f636",
   "metadata": {},
   "source": [
    "## 3. Exploratory Data Analysis (EDA)"
   ]
  },
  {
   "cell_type": "markdown",
   "id": "fa151437",
   "metadata": {},
   "source": [
    "\n",
    "#### Percentage of the users are adopted"
   ]
  },
  {
   "cell_type": "code",
   "execution_count": 58,
   "id": "f3189c0d",
   "metadata": {},
   "outputs": [
    {
     "name": "stdout",
     "output_type": "stream",
     "text": [
      "Total percentage of the adopted users are: 0.0 %\n",
      "adopted_users\n",
      "0    10398\n",
      "1     1602\n",
      "Name: count, dtype: int64\n"
     ]
    },
    {
     "data": {
      "image/png": "[encoded data removed]",
      "text/plain": [
       "<Figure size 600x500 with 1 Axes>"
      ]
     },
     "metadata": {},
     "output_type": "display_data"
    }
   ],
   "source": [
    "# Plot percentage of adopted user\n",
    "\n",
    "plt.figure(figsize=(6,5))\n",
    "#ax = sns.countplot(data=df['adopted_users'])\n",
    "ax = sns.histplot(data=df['adopted_users'])\n",
    "\n",
    "plt.title('Distribution of Users Status',fontweight='bold')\n",
    "plt.xlabel('Users Status')\n",
    "plt.ylabel('Users Number')\n",
    "\n",
    "\n",
    "# calculate the percentages of the category\n",
    "sizes=[]\n",
    "total_data = len(df)\n",
    "for p in ax.patches:\n",
    "    height = p.get_height()\n",
    "    ax.text(p.get_x()+p.get_width()/2.,height+50,\n",
    "            '{:1.2f}%'.format(height/total_data*100), ha=\"center\", fontsize=15)\n",
    "\n",
    "# Display the plot\n",
    "plt.show\n",
    "\n",
    "# Print Users status value count and total percentages\n",
    "\n",
    "print('Total percentage of the adopted users are:',\n",
    "      100*df['adopted_users'].apply(lambda x: 1 if x == 'adopted user' else 0).sum()/len(df),'%')\n",
    "print(df['adopted_users'].value_counts())"
   ]
  },
  {
   "cell_type": "markdown",
   "id": "80143a72",
   "metadata": {},
   "source": [
    "Analyze adopted opted_in_mailing_list with adopted users"
   ]
  },
  {
   "cell_type": "code",
   "execution_count": 28,
   "id": "b3e55c70",
   "metadata": {},
   "outputs": [
    {
     "data": {
      "image/png": "[encoded data removed]",
      "text/plain": [
       "<Figure size 250x250 with 1 Axes>"
      ]
     },
     "metadata": {},
     "output_type": "display_data"
    }
   ],
   "source": [
    "ax1 = sns.PairGrid(data=df , x_vars='adopted_users', y_vars='opted_in_to_mailing_list')\n",
    "ax1.map(sns.pointplot)\n",
    "ax1.set(ylim=(0,1))\n",
    "plt.show()"
   ]
  },
  {
   "cell_type": "markdown",
   "id": "062fafc7",
   "metadata": {},
   "source": [
    "Graph on the above shows, users who opted in mailing list has very little to do with ending up as an adopted user."
   ]
  },
  {
   "cell_type": "markdown",
   "id": "600d60b6",
   "metadata": {},
   "source": [
    "### Analyze enable_for_marketing_drip vs adopted_user"
   ]
  },
  {
   "cell_type": "code",
   "execution_count": 29,
   "id": "722be137",
   "metadata": {},
   "outputs": [
    {
     "data": {
      "image/png": "[encoded data removed]",
      "text/plain": [
       "<Figure size 250x250 with 1 Axes>"
      ]
     },
     "metadata": {},
     "output_type": "display_data"
    }
   ],
   "source": [
    "ax2 = sns.PairGrid(data=df, x_vars='adopted_users',\n",
    "                   y_vars = 'enabled_for_marketing_drip')\n",
    "ax2.map(sns.pointplot)\n",
    "ax2.set(ylim=(0,1))\n",
    "plt.show()"
   ]
  },
  {
   "cell_type": "markdown",
   "id": "04315b93",
   "metadata": {},
   "source": [
    "Marketing drip is not effective in adopting users"
   ]
  },
  {
   "cell_type": "markdown",
   "id": "bfb4bfde",
   "metadata": {},
   "source": [
    "\n",
    "### Analyze invited vs adopted_users"
   ]
  },
  {
   "cell_type": "code",
   "execution_count": 32,
   "id": "808d2d91",
   "metadata": {},
   "outputs": [
    {
     "data": {
      "image/png": "[encoded data removed]",
      "text/plain": [
       "<Figure size 250x250 with 1 Axes>"
      ]
     },
     "metadata": {},
     "output_type": "display_data"
    }
   ],
   "source": [
    "ax3 = sns.PairGrid(data=df, x_vars='adopted_users',\n",
    "                   y_vars='invited')\n",
    "ax3.map(sns.pointplot)\n",
    "ax3.set(ylim=(0,1))\n",
    "plt.show()"
   ]
  },
  {
   "cell_type": "markdown",
   "id": "a70c98e5",
   "metadata": {},
   "source": [
    "Who have invited other users have a slightly larger chance of being an adopted user."
   ]
  },
  {
   "cell_type": "markdown",
   "id": "2e86353a",
   "metadata": {},
   "source": [
    "### Analyze creation_source vs adopted_user"
   ]
  },
  {
   "cell_type": "code",
   "execution_count": 33,
   "id": "d0c16561",
   "metadata": {},
   "outputs": [
    {
     "data": {
      "image/png": "[encoded data removed]",
      "text/plain": [
       "<Figure size 1000x500 with 1 Axes>"
      ]
     },
     "metadata": {},
     "output_type": "display_data"
    }
   ],
   "source": [
    "plt.figure(figsize=(10,5))\n",
    "sns.countplot(x='creation_source', data=df,hue='adopted_users')\n",
    "plt.xticks(rotation=90)\n",
    "plt.show()"
   ]
  },
  {
   "cell_type": "markdown",
   "id": "b63b39e4",
   "metadata": {},
   "source": [
    "Users with the accounts that were created for personal projects are less likely to be adopted compared to the other users."
   ]
  },
  {
   "cell_type": "markdown",
   "id": "20cbebeb",
   "metadata": {},
   "source": [
    "### Analyze email domain with adopted users"
   ]
  },
  {
   "cell_type": "code",
   "execution_count": 34,
   "id": "f24943fc",
   "metadata": {},
   "outputs": [],
   "source": [
    "df['adopted_users'] = df.adopted_users.apply(lambda x: 1 if x=='adopted user' else 0)\n",
    "\n",
    "\n",
    "df['email'] = df['email'].apply(lambda x: x[x.find('@')+1:])\n",
    "major_emails = ['gmail.com','yahoo.com', 'jourrapide.com', 'cuvox.de', 'gustr.com', 'hotmail.com']"
   ]
  },
  {
   "cell_type": "code",
   "execution_count": 35,
   "id": "1dd908eb",
   "metadata": {},
   "outputs": [],
   "source": [
    "df['email'] =  df['email'].apply(lambda x: 'other' if x not in major_emails else x[:x.find('.')])"
   ]
  },
  {
   "cell_type": "code",
   "execution_count": 36,
   "id": "c0c37e88",
   "metadata": {},
   "outputs": [
    {
     "data": {
      "image/png": "[encoded data removed]",
      "text/plain": [
       "<Figure size 640x480 with 2 Axes>"
      ]
     },
     "metadata": {},
     "output_type": "display_data"
    },
    {
     "data": {
      "text/plain": [
       "email\n",
       "cuvox         0.114809\n",
       "gmail         0.152442\n",
       "gustr         0.121289\n",
       "hotmail       0.169099\n",
       "jourrapide    0.129468\n",
       "other         0.132378\n",
       "yahoo         0.106661\n",
       "Name: adopted_users, dtype: float64"
      ]
     },
     "execution_count": 36,
     "metadata": {},
     "output_type": "execute_result"
    }
   ],
   "source": [
    "feature = df.groupby('email').agg({'adopted_users':['size', 'sum', 'mean']})\n",
    "feature.columns = [' '.join(col).strip() for col in feature.columns.values]\n",
    "feature = feature.reset_index()\n",
    "feature['adopted_users mean'] = feature['adopted_users mean']*100\n",
    "feature.columns = ['email', 'Total Users', 'Adopted Users Number', \n",
    "                       '% of Adopted Users in the Relevant Group'] \n",
    "    \n",
    "fig0, ax1 = plt.subplots()\n",
    "ax2 = ax1.twinx()\n",
    "feature.set_index(feature['email'], drop=True, inplace=True)\n",
    "feature['Total Users'].plot(kind = 'bar', stacked = True, ax = ax1, \n",
    "                                   colormap = 'winter')\n",
    "feature['% of Adopted Users in the Relevant Group'].plot(use_index = False, \n",
    "                                                         kind = 'line', ax = ax2,color='red')\n",
    "plt.title('Adopted Users status compared to' + \" \" + 'email'  + \" \" + \"Groups\")\n",
    "ax1.set_xlabel('email')\n",
    "ax1.yaxis.label.set_color('blue')\n",
    "ax1.set_ylabel(\"Total Users\")\n",
    "ax2.set_ylabel(\"Adopted Users Percentage in the Relevant Group\")\n",
    "ax2.yaxis.label.set_color('red')\n",
    "plt.tight_layout()\n",
    "plt.show()\n",
    "\n",
    "#percentage of engaged users by email domain\n",
    "df[['email','adopted_users']].groupby('email')['adopted_users'].mean()"
   ]
  },
  {
   "cell_type": "markdown",
   "id": "8dc4d425",
   "metadata": {},
   "source": [
    "In the email varieties, hotmail users are going to most probably to be adopted users but yahoo usersare the least probably. Besides the difference is very small, it might be that these observations are noise."
   ]
  },
  {
   "cell_type": "markdown",
   "id": "f56d05a5",
   "metadata": {},
   "source": [
    "# 4. Feature Engineering"
   ]
  },
  {
   "cell_type": "code",
   "execution_count": 37,
   "id": "1cc04c94",
   "metadata": {},
   "outputs": [],
   "source": [
    "df=df.set_index('object_id')"
   ]
  },
  {
   "cell_type": "code",
   "execution_count": 38,
   "id": "c1f16c25",
   "metadata": {},
   "outputs": [],
   "source": [
    "# re-code datetime columns to be used ind the analysis\n",
    "\n",
    "df['creation_year'] = df.creation_time.dt.year\n",
    "df['creation_month'] = df.creation_time.dt.month\n",
    "df['creation_day'] = df.creation_time.dt.day\n",
    "\n",
    "\n",
    "df['last_session_creation_time'] = df.last_session_creation_time.fillna(\n",
    "    df.last_session_creation_time.mean())\n",
    "\n",
    "df['last_session_year'] = df['last_session_creation_time'].dt.year\n",
    "df['last_session_month'] = df['last_session_creation_time'].dt.month\n",
    "df['last_session_day'] = df['last_session_creation_time'].dt.day\n",
    "# Convert date columns to string\n",
    "\n",
    "df['creation_year'] = df['creation_year'].astype('str')\n",
    "df['creation_month'] = df['creation_month'].astype('str')\n",
    "df['creation_day'] = df['creation_day'].astype('str')\n",
    "\n",
    "\n",
    "df['last_session_year'] = df['last_session_year'].astype('str')\n",
    "df['last_session_month'] = df['last_session_month'].astype('str')\n",
    "df['last_session_day'] = df['last_session_day'].astype('str')"
   ]
  },
  {
   "cell_type": "code",
   "execution_count": 39,
   "id": "99659abb",
   "metadata": {},
   "outputs": [
    {
     "data": {
      "text/html": [
       "<div>\n",
       "<style scoped>\n",
       "    .dataframe tbody tr th:only-of-type {\n",
       "        vertical-align: middle;\n",
       "    }\n",
       "\n",
       "    .dataframe tbody tr th {\n",
       "        vertical-align: top;\n",
       "    }\n",
       "\n",
       "    .dataframe thead th {\n",
       "        text-align: right;\n",
       "    }\n",
       "</style>\n",
       "<table border=\"1\" class=\"dataframe\">\n",
       "  <thead>\n",
       "    <tr style=\"text-align: right;\">\n",
       "      <th></th>\n",
       "      <th>creation_time</th>\n",
       "      <th>name</th>\n",
       "      <th>email</th>\n",
       "      <th>creation_source</th>\n",
       "      <th>last_session_creation_time</th>\n",
       "      <th>opted_in_to_mailing_list</th>\n",
       "      <th>enabled_for_marketing_drip</th>\n",
       "      <th>org_id</th>\n",
       "      <th>invited_by_user_id</th>\n",
       "      <th>adopted_users</th>\n",
       "      <th>invited</th>\n",
       "      <th>creation_year</th>\n",
       "      <th>creation_month</th>\n",
       "      <th>creation_day</th>\n",
       "      <th>last_session_year</th>\n",
       "      <th>last_session_month</th>\n",
       "      <th>last_session_day</th>\n",
       "    </tr>\n",
       "    <tr>\n",
       "      <th>object_id</th>\n",
       "      <th></th>\n",
       "      <th></th>\n",
       "      <th></th>\n",
       "      <th></th>\n",
       "      <th></th>\n",
       "      <th></th>\n",
       "      <th></th>\n",
       "      <th></th>\n",
       "      <th></th>\n",
       "      <th></th>\n",
       "      <th></th>\n",
       "      <th></th>\n",
       "      <th></th>\n",
       "      <th></th>\n",
       "      <th></th>\n",
       "      <th></th>\n",
       "      <th></th>\n",
       "    </tr>\n",
       "  </thead>\n",
       "  <tbody>\n",
       "    <tr>\n",
       "      <th>1</th>\n",
       "      <td>2014-04-22 03:53:30</td>\n",
       "      <td>Clausen August</td>\n",
       "      <td>yahoo</td>\n",
       "      <td>GUEST_INVITE</td>\n",
       "      <td>2014-04-22 03:53:30</td>\n",
       "      <td>1</td>\n",
       "      <td>0</td>\n",
       "      <td>11</td>\n",
       "      <td>10803.0</td>\n",
       "      <td>0</td>\n",
       "      <td>1</td>\n",
       "      <td>2014</td>\n",
       "      <td>4</td>\n",
       "      <td>22</td>\n",
       "      <td>2014</td>\n",
       "      <td>4</td>\n",
       "      <td>22</td>\n",
       "    </tr>\n",
       "    <tr>\n",
       "      <th>2</th>\n",
       "      <td>2013-11-15 03:45:04</td>\n",
       "      <td>Poole Matthew</td>\n",
       "      <td>gustr</td>\n",
       "      <td>ORG_INVITE</td>\n",
       "      <td>2014-03-31 03:45:04</td>\n",
       "      <td>0</td>\n",
       "      <td>0</td>\n",
       "      <td>1</td>\n",
       "      <td>316.0</td>\n",
       "      <td>1</td>\n",
       "      <td>1</td>\n",
       "      <td>2013</td>\n",
       "      <td>11</td>\n",
       "      <td>15</td>\n",
       "      <td>2014</td>\n",
       "      <td>3</td>\n",
       "      <td>31</td>\n",
       "    </tr>\n",
       "    <tr>\n",
       "      <th>3</th>\n",
       "      <td>2013-03-19 23:14:52</td>\n",
       "      <td>Bottrill Mitchell</td>\n",
       "      <td>gustr</td>\n",
       "      <td>ORG_INVITE</td>\n",
       "      <td>2013-03-19 23:14:52</td>\n",
       "      <td>0</td>\n",
       "      <td>0</td>\n",
       "      <td>94</td>\n",
       "      <td>1525.0</td>\n",
       "      <td>0</td>\n",
       "      <td>1</td>\n",
       "      <td>2013</td>\n",
       "      <td>3</td>\n",
       "      <td>19</td>\n",
       "      <td>2013</td>\n",
       "      <td>3</td>\n",
       "      <td>19</td>\n",
       "    </tr>\n",
       "    <tr>\n",
       "      <th>4</th>\n",
       "      <td>2013-05-21 08:09:28</td>\n",
       "      <td>Clausen Nicklas</td>\n",
       "      <td>yahoo</td>\n",
       "      <td>GUEST_INVITE</td>\n",
       "      <td>2013-05-22 08:09:28</td>\n",
       "      <td>0</td>\n",
       "      <td>0</td>\n",
       "      <td>1</td>\n",
       "      <td>5151.0</td>\n",
       "      <td>0</td>\n",
       "      <td>1</td>\n",
       "      <td>2013</td>\n",
       "      <td>5</td>\n",
       "      <td>21</td>\n",
       "      <td>2013</td>\n",
       "      <td>5</td>\n",
       "      <td>22</td>\n",
       "    </tr>\n",
       "    <tr>\n",
       "      <th>5</th>\n",
       "      <td>2013-01-17 10:14:20</td>\n",
       "      <td>Raw Grace</td>\n",
       "      <td>yahoo</td>\n",
       "      <td>GUEST_INVITE</td>\n",
       "      <td>2013-01-22 10:14:20</td>\n",
       "      <td>0</td>\n",
       "      <td>0</td>\n",
       "      <td>193</td>\n",
       "      <td>5240.0</td>\n",
       "      <td>0</td>\n",
       "      <td>1</td>\n",
       "      <td>2013</td>\n",
       "      <td>1</td>\n",
       "      <td>17</td>\n",
       "      <td>2013</td>\n",
       "      <td>1</td>\n",
       "      <td>22</td>\n",
       "    </tr>\n",
       "  </tbody>\n",
       "</table>\n",
       "</div>"
      ],
      "text/plain": [
       "                creation_time               name  email creation_source  \\\n",
       "object_id                                                                 \n",
       "1         2014-04-22 03:53:30     Clausen August  yahoo    GUEST_INVITE   \n",
       "2         2013-11-15 03:45:04      Poole Matthew  gustr      ORG_INVITE   \n",
       "3         2013-03-19 23:14:52  Bottrill Mitchell  gustr      ORG_INVITE   \n",
       "4         2013-05-21 08:09:28    Clausen Nicklas  yahoo    GUEST_INVITE   \n",
       "5         2013-01-17 10:14:20          Raw Grace  yahoo    GUEST_INVITE   \n",
       "\n",
       "          last_session_creation_time  opted_in_to_mailing_list  \\\n",
       "object_id                                                        \n",
       "1                2014-04-22 03:53:30                         1   \n",
       "2                2014-03-31 03:45:04                         0   \n",
       "3                2013-03-19 23:14:52                         0   \n",
       "4                2013-05-22 08:09:28                         0   \n",
       "5                2013-01-22 10:14:20                         0   \n",
       "\n",
       "           enabled_for_marketing_drip  org_id  invited_by_user_id  \\\n",
       "object_id                                                           \n",
       "1                                   0      11             10803.0   \n",
       "2                                   0       1               316.0   \n",
       "3                                   0      94              1525.0   \n",
       "4                                   0       1              5151.0   \n",
       "5                                   0     193              5240.0   \n",
       "\n",
       "           adopted_users  invited creation_year creation_month creation_day  \\\n",
       "object_id                                                                     \n",
       "1                      0        1          2014              4           22   \n",
       "2                      1        1          2013             11           15   \n",
       "3                      0        1          2013              3           19   \n",
       "4                      0        1          2013              5           21   \n",
       "5                      0        1          2013              1           17   \n",
       "\n",
       "          last_session_year last_session_month last_session_day  \n",
       "object_id                                                        \n",
       "1                      2014                  4               22  \n",
       "2                      2014                  3               31  \n",
       "3                      2013                  3               19  \n",
       "4                      2013                  5               22  \n",
       "5                      2013                  1               22  "
      ]
     },
     "execution_count": 39,
     "metadata": {},
     "output_type": "execute_result"
    }
   ],
   "source": [
    "df.head()"
   ]
  },
  {
   "cell_type": "code",
   "execution_count": 40,
   "id": "5cd28bd1",
   "metadata": {},
   "outputs": [
    {
     "data": {
      "text/plain": [
       "email\n",
       "gmail         3562\n",
       "yahoo         2447\n",
       "jourrapide    1259\n",
       "cuvox         1202\n",
       "other         1186\n",
       "gustr         1179\n",
       "hotmail       1165\n",
       "Name: count, dtype: int64"
      ]
     },
     "execution_count": 40,
     "metadata": {},
     "output_type": "execute_result"
    }
   ],
   "source": [
    "df.email.value_counts()"
   ]
  },
  {
   "cell_type": "code",
   "execution_count": 41,
   "id": "885c1cc3",
   "metadata": {},
   "outputs": [],
   "source": [
    "# Drop the following columns \n",
    "\n",
    "df.drop(['name', 'org_id', 'invited_by_user_id', \n",
    "         'creation_time', 'last_session_creation_time'],\n",
    "       axis=1,inplace= True)\n"
   ]
  },
  {
   "cell_type": "code",
   "execution_count": 42,
   "id": "cee55353",
   "metadata": {},
   "outputs": [],
   "source": [
    "# Convert categorical columns to dummy variables\n",
    "\n",
    "df =pd.get_dummies(df,prefix='is')"
   ]
  },
  {
   "cell_type": "code",
   "execution_count": 43,
   "id": "760d423d",
   "metadata": {},
   "outputs": [
    {
     "name": "stdout",
     "output_type": "stream",
     "text": [
      "<class 'pandas.core.frame.DataFrame'>\n",
      "Index: 12000 entries, 1 to 12000\n",
      "Columns: 108 entries, opted_in_to_mailing_list to is_9\n",
      "dtypes: bool(104), int64(4)\n",
      "memory usage: 1.6 MB\n"
     ]
    }
   ],
   "source": [
    "df.info()"
   ]
  },
  {
   "cell_type": "markdown",
   "id": "1cfe49e1",
   "metadata": {},
   "source": [
    "# 5. Model Building"
   ]
  },
  {
   "cell_type": "markdown",
   "id": "6ba59d6e",
   "metadata": {},
   "source": [
    "__Three different machine learning algorithms will be experimented to predict adopted users and I will use the metric for this classification problem ROC_AUC.__\n",
    "\n",
    " - Logistic Regression\n",
    " - Support Vector Machine Classifier\n",
    " - Random Forest Classifier\n",
    " - Random Forest Classifier with Grid Searh CV\n",
    " - Gradient Boosting Classifier"
   ]
  },
  {
   "cell_type": "code",
   "execution_count": 44,
   "id": "0e63d7f0",
   "metadata": {},
   "outputs": [],
   "source": [
    "# Extract features and target\n",
    "\n",
    "X = df.drop('adopted_users', axis=1)\n",
    "y = df['adopted_users']"
   ]
  },
  {
   "cell_type": "code",
   "execution_count": 45,
   "id": "17d87d29",
   "metadata": {},
   "outputs": [],
   "source": [
    "# Train test split\n",
    "X_train, X_test, y_train, y_test = train_test_split(X, y, test_size=0.2, \n",
    "                                                    stratify=y, random_state=42)"
   ]
  },
  {
   "cell_type": "code",
   "execution_count": 46,
   "id": "c6cb3336",
   "metadata": {},
   "outputs": [],
   "source": [
    "# I will list and compare the different algorithms.\n",
    "model_evaluation=[]\n",
    "\n",
    "def Evaluation (model_name,model,Xtest=X_test,ytest=y_test):\n",
    "    # Fit model to the trainin data\n",
    "    model.fit(X_train,y_train)\n",
    "    \n",
    "    # Predict the labels\n",
    "    y_pred = model.predict(Xtest)\n",
    "    \n",
    "    '''This function is to produce model statistic'''\n",
    "     # Append model statistic to model_evaluation list\n",
    "    \n",
    "    roc_auc   = roc_auc_score   (ytest,y_pred)\n",
    "    Precision = precision_score (ytest,y_pred)\n",
    "    Accuracy  = accuracy_score  (ytest,y_pred)\n",
    "    Recall    = recall_score    (ytest,y_pred)\n",
    "    F1_score  = f1_score        (ytest,y_pred)\n",
    "    \n",
    "    model_evaluation.append([model_name,Accuracy,roc_auc,Precision,Recall,F1_score])\n",
    "    \n",
    "    print('F1 score: {}'.format(F1_score))"
   ]
  },
  {
   "cell_type": "markdown",
   "id": "57218f9f",
   "metadata": {},
   "source": [
    "#### Logistic Regression\n"
   ]
  },
  {
   "cell_type": "code",
   "execution_count": 47,
   "id": "7b5dcc24",
   "metadata": {},
   "outputs": [
    {
     "name": "stdout",
     "output_type": "stream",
     "text": [
      "F1 score: 0.8955223880597015\n"
     ]
    }
   ],
   "source": [
    "# Instantiate Pipeline object\n",
    "logreg = Pipeline([('scaler',StandardScaler()),\n",
    "                 ('logit',LogisticRegression())])\n",
    "\n",
    "\n",
    "Evaluation('Logistic Regression',logreg)"
   ]
  },
  {
   "cell_type": "markdown",
   "id": "4a788ec0",
   "metadata": {},
   "source": [
    "### Support Vector Machine"
   ]
  },
  {
   "cell_type": "code",
   "execution_count": 48,
   "id": "fff503e7",
   "metadata": {},
   "outputs": [
    {
     "name": "stdout",
     "output_type": "stream",
     "text": [
      "F1 score: 0.8685121107266436\n"
     ]
    }
   ],
   "source": [
    "# Instantiate Pipeline object\n",
    "\n",
    "svm = Pipeline([('scaler',StandardScaler()),('SVM',SVC())])\n",
    "\n",
    "Evaluation('Support Vector Machine',svm)"
   ]
  },
  {
   "cell_type": "markdown",
   "id": "d57811c5",
   "metadata": {},
   "source": [
    "### Random Forest Classifier"
   ]
  },
  {
   "cell_type": "code",
   "execution_count": 49,
   "id": "f19f4d89",
   "metadata": {},
   "outputs": [
    {
     "name": "stdout",
     "output_type": "stream",
     "text": [
      "F1 score: 0.8791946308724833\n"
     ]
    }
   ],
   "source": [
    "# Instantiate Pipeline object\n",
    "\n",
    "rfc = Pipeline([('scaler',StandardScaler()),\n",
    "                ('rfc',RandomForestClassifier(class_weight='balanced'))])\n",
    "                #class_weight='balanced' to adjust for the imbalanced classes\n",
    "\n",
    "\n",
    "\n",
    "Evaluation('Random Forest Classifier',rfc)"
   ]
  },
  {
   "cell_type": "markdown",
   "id": "7cebc6e3",
   "metadata": {},
   "source": [
    "### Random Forest Classifier with Grid Searh CV"
   ]
  },
  {
   "cell_type": "code",
   "execution_count": 50,
   "id": "ebd6b932",
   "metadata": {},
   "outputs": [
    {
     "name": "stdout",
     "output_type": "stream",
     "text": [
      "F1 score: 0.710353866317169\n"
     ]
    }
   ],
   "source": [
    "# Instantiate Pipeline object\n",
    "\n",
    "rfc_pipe = Pipeline([('selectKBest',SelectKBest()),\n",
    "                     ('rfc', RandomForestClassifier())])\n",
    "\n",
    "# Instantiate param grid object\n",
    "\n",
    "param_grid={'rfc__n_estimators' : range(1,10,1),\n",
    "    'selectKBest__k' : range(2,12,1),\n",
    "    'rfc__class_weight' : ['balanced', 'balanced_subsample'],\n",
    "    'rfc__random_state' : [21]}\n",
    "\n",
    "\n",
    "gsCV = GridSearchCV (rfc_pipe, param_grid, cv=5, scoring='roc_auc')\n",
    "\n",
    "Evaluation('RFC with Grid Search CV',gsCV)"
   ]
  },
  {
   "cell_type": "markdown",
   "id": "edfc51af",
   "metadata": {},
   "source": [
    "### Gradient Boosting Classifier"
   ]
  },
  {
   "cell_type": "code",
   "execution_count": 51,
   "id": "976dbb89",
   "metadata": {},
   "outputs": [
    {
     "name": "stdout",
     "output_type": "stream",
     "text": [
      "F1 score: 0.8818635607321131\n"
     ]
    }
   ],
   "source": [
    "# instantiate Pipeline object\n",
    "gbc = Pipeline([\n",
    "        ('scaler', StandardScaler()),\n",
    "        ('gbc', GradientBoostingClassifier())\n",
    "    ])\n",
    "\n",
    "Evaluation ('Gradient Boosting Classifier',gbc)"
   ]
  },
  {
   "cell_type": "code",
   "execution_count": 52,
   "id": "c0d4f0f4",
   "metadata": {},
   "outputs": [
    {
     "data": {
      "text/html": [
       "<div>\n",
       "<style scoped>\n",
       "    .dataframe tbody tr th:only-of-type {\n",
       "        vertical-align: middle;\n",
       "    }\n",
       "\n",
       "    .dataframe tbody tr th {\n",
       "        vertical-align: top;\n",
       "    }\n",
       "\n",
       "    .dataframe thead th {\n",
       "        text-align: right;\n",
       "    }\n",
       "</style>\n",
       "<table border=\"1\" class=\"dataframe\">\n",
       "  <thead>\n",
       "    <tr style=\"text-align: right;\">\n",
       "      <th></th>\n",
       "      <th>Accuracy</th>\n",
       "      <th>ROC_AUC</th>\n",
       "      <th>Precision</th>\n",
       "      <th>Recall</th>\n",
       "      <th>F1</th>\n",
       "    </tr>\n",
       "    <tr>\n",
       "      <th>Model</th>\n",
       "      <th></th>\n",
       "      <th></th>\n",
       "      <th></th>\n",
       "      <th></th>\n",
       "      <th></th>\n",
       "    </tr>\n",
       "  </thead>\n",
       "  <tbody>\n",
       "    <tr>\n",
       "      <th>Logistic Regression</th>\n",
       "      <td>0.973750</td>\n",
       "      <td>0.918750</td>\n",
       "      <td>0.954064</td>\n",
       "      <td>0.843750</td>\n",
       "      <td>0.895522</td>\n",
       "    </tr>\n",
       "    <tr>\n",
       "      <th>Gradient Boosting Classifier</th>\n",
       "      <td>0.970417</td>\n",
       "      <td>0.910216</td>\n",
       "      <td>0.943060</td>\n",
       "      <td>0.828125</td>\n",
       "      <td>0.881864</td>\n",
       "    </tr>\n",
       "    <tr>\n",
       "      <th>Random Forest Classifier</th>\n",
       "      <td>0.970000</td>\n",
       "      <td>0.906010</td>\n",
       "      <td>0.949275</td>\n",
       "      <td>0.818750</td>\n",
       "      <td>0.879195</td>\n",
       "    </tr>\n",
       "    <tr>\n",
       "      <th>Support Vector Machine</th>\n",
       "      <td>0.968333</td>\n",
       "      <td>0.890505</td>\n",
       "      <td>0.972868</td>\n",
       "      <td>0.784375</td>\n",
       "      <td>0.868512</td>\n",
       "    </tr>\n",
       "    <tr>\n",
       "      <th>RFC with Grid Search CV</th>\n",
       "      <td>0.907917</td>\n",
       "      <td>0.882091</td>\n",
       "      <td>0.611738</td>\n",
       "      <td>0.846875</td>\n",
       "      <td>0.710354</td>\n",
       "    </tr>\n",
       "  </tbody>\n",
       "</table>\n",
       "</div>"
      ],
      "text/plain": [
       "                              Accuracy   ROC_AUC  Precision    Recall  \\\n",
       "Model                                                                   \n",
       "Logistic Regression           0.973750  0.918750   0.954064  0.843750   \n",
       "Gradient Boosting Classifier  0.970417  0.910216   0.943060  0.828125   \n",
       "Random Forest Classifier      0.970000  0.906010   0.949275  0.818750   \n",
       "Support Vector Machine        0.968333  0.890505   0.972868  0.784375   \n",
       "RFC with Grid Search CV       0.907917  0.882091   0.611738  0.846875   \n",
       "\n",
       "                                    F1  \n",
       "Model                                   \n",
       "Logistic Regression           0.895522  \n",
       "Gradient Boosting Classifier  0.881864  \n",
       "Random Forest Classifier      0.879195  \n",
       "Support Vector Machine        0.868512  \n",
       "RFC with Grid Search CV       0.710354  "
      ]
     },
     "execution_count": 52,
     "metadata": {},
     "output_type": "execute_result"
    }
   ],
   "source": [
    "# prepare a dataframe using all the models with their performance measures\n",
    "df_eval=pd.DataFrame(model_evaluation,columns=['Model', 'Accuracy', 'ROC_AUC', 'Precision', 'Recall', 'F1'])\n",
    "df_eval.sort_values(['ROC_AUC'],ascending=False,inplace=True)\n",
    "df_eval=df_eval.set_index('Model')\n",
    "df_eval"
   ]
  },
  {
   "cell_type": "markdown",
   "id": "4c43bdde",
   "metadata": {},
   "source": [
    "### Feature Importance"
   ]
  },
  {
   "cell_type": "markdown",
   "id": "f995ec6f",
   "metadata": {},
   "source": [
    "Whatever coefficients the classifier has assigned to the features will indicate which ones it found more useful in making the correct classifications."
   ]
  },
  {
   "cell_type": "code",
   "execution_count": 53,
   "id": "17a3db8e",
   "metadata": {},
   "outputs": [
    {
     "data": {
      "text/html": [
       "<div>\n",
       "<style scoped>\n",
       "    .dataframe tbody tr th:only-of-type {\n",
       "        vertical-align: middle;\n",
       "    }\n",
       "\n",
       "    .dataframe tbody tr th {\n",
       "        vertical-align: top;\n",
       "    }\n",
       "\n",
       "    .dataframe thead th {\n",
       "        text-align: right;\n",
       "    }\n",
       "</style>\n",
       "<table border=\"1\" class=\"dataframe\">\n",
       "  <thead>\n",
       "    <tr style=\"text-align: right;\">\n",
       "      <th></th>\n",
       "      <th>Feature</th>\n",
       "      <th>Importance</th>\n",
       "    </tr>\n",
       "  </thead>\n",
       "  <tbody>\n",
       "    <tr>\n",
       "      <th>0</th>\n",
       "      <td>opted_in_to_mailing_list</td>\n",
       "      <td>0.006823</td>\n",
       "    </tr>\n",
       "    <tr>\n",
       "      <th>4</th>\n",
       "      <td>is_gmail</td>\n",
       "      <td>0.006717</td>\n",
       "    </tr>\n",
       "    <tr>\n",
       "      <th>10</th>\n",
       "      <td>is_GUEST_INVITE</td>\n",
       "      <td>0.005950</td>\n",
       "    </tr>\n",
       "    <tr>\n",
       "      <th>11</th>\n",
       "      <td>is_ORG_INVITE</td>\n",
       "      <td>0.005857</td>\n",
       "    </tr>\n",
       "    <tr>\n",
       "      <th>2</th>\n",
       "      <td>invited</td>\n",
       "      <td>0.005843</td>\n",
       "    </tr>\n",
       "    <tr>\n",
       "      <th>1</th>\n",
       "      <td>enabled_for_marketing_drip</td>\n",
       "      <td>0.005041</td>\n",
       "    </tr>\n",
       "    <tr>\n",
       "      <th>12</th>\n",
       "      <td>is_PERSONAL_PROJECTS</td>\n",
       "      <td>0.004922</td>\n",
       "    </tr>\n",
       "    <tr>\n",
       "      <th>13</th>\n",
       "      <td>is_SIGNUP</td>\n",
       "      <td>0.004720</td>\n",
       "    </tr>\n",
       "    <tr>\n",
       "      <th>9</th>\n",
       "      <td>is_yahoo</td>\n",
       "      <td>0.004682</td>\n",
       "    </tr>\n",
       "    <tr>\n",
       "      <th>6</th>\n",
       "      <td>is_hotmail</td>\n",
       "      <td>0.004535</td>\n",
       "    </tr>\n",
       "    <tr>\n",
       "      <th>14</th>\n",
       "      <td>is_SIGNUP_GOOGLE_AUTH</td>\n",
       "      <td>0.004512</td>\n",
       "    </tr>\n",
       "    <tr>\n",
       "      <th>5</th>\n",
       "      <td>is_gustr</td>\n",
       "      <td>0.003629</td>\n",
       "    </tr>\n",
       "    <tr>\n",
       "      <th>7</th>\n",
       "      <td>is_jourrapide</td>\n",
       "      <td>0.003606</td>\n",
       "    </tr>\n",
       "    <tr>\n",
       "      <th>3</th>\n",
       "      <td>is_cuvox</td>\n",
       "      <td>0.003438</td>\n",
       "    </tr>\n",
       "    <tr>\n",
       "      <th>8</th>\n",
       "      <td>is_other</td>\n",
       "      <td>0.003332</td>\n",
       "    </tr>\n",
       "  </tbody>\n",
       "</table>\n",
       "</div>"
      ],
      "text/plain": [
       "                       Feature  Importance\n",
       "0     opted_in_to_mailing_list    0.006823\n",
       "4                     is_gmail    0.006717\n",
       "10             is_GUEST_INVITE    0.005950\n",
       "11               is_ORG_INVITE    0.005857\n",
       "2                      invited    0.005843\n",
       "1   enabled_for_marketing_drip    0.005041\n",
       "12        is_PERSONAL_PROJECTS    0.004922\n",
       "13                   is_SIGNUP    0.004720\n",
       "9                     is_yahoo    0.004682\n",
       "6                   is_hotmail    0.004535\n",
       "14       is_SIGNUP_GOOGLE_AUTH    0.004512\n",
       "5                     is_gustr    0.003629\n",
       "7                is_jourrapide    0.003606\n",
       "3                     is_cuvox    0.003438\n",
       "8                     is_other    0.003332"
      ]
     },
     "execution_count": 53,
     "metadata": {},
     "output_type": "execute_result"
    },
    {
     "data": {
      "image/png": "[encoded data removed]",
      "text/plain": [
       "<Figure size 640x480 with 1 Axes>"
      ]
     },
     "metadata": {},
     "output_type": "display_data"
    }
   ],
   "source": [
    "# feature importance ranking\n",
    "feat = X_train.columns\n",
    "imp = rfc.named_steps['rfc'].feature_importances_\n",
    "df_gb = pd.DataFrame({'Feature': feat, 'Importance': imp})[:15]\n",
    "df_gb = df_gb.sort_values('Importance', ascending=False)\n",
    "sns.barplot(x='Importance', y='Feature', data=df_gb, palette='colorblind');\n",
    "df_gb.head(15)"
   ]
  },
  {
   "cell_type": "markdown",
   "id": "efa4df1f",
   "metadata": {},
   "source": [
    "The most important feature to predict user adoption is 'opted_in_mailing_list."
   ]
  },
  {
   "cell_type": "markdown",
   "id": "de310bea",
   "metadata": {},
   "source": [
    "# Conclusion"
   ]
  },
  {
   "cell_type": "markdown",
   "id": "23c8edcc",
   "metadata": {},
   "source": [
    "From the analysis and the predictive modeling that we have performed above, the results can be summarized as follows:\n",
    "\n",
    "87% of userbase are non adopted users. This evidently shows that there is a lot that can be done to decrease this ratio relative to the number of adopted users.\n",
    "\n",
    "The Logistic Regression Classifier algorithm performs the best in predicting the adopted users with an accuracy score of 97%. It also performs better in f1 score and roc_auc performance measures compared to the other models.\n",
    "\n",
    "As shown on the feature importance ranking above, 'opted_in_to_mailing_list' and 'is_gmail' features are the most important features when it comes to predicting the adopted users."
   ]
  },
  {
   "cell_type": "code",
   "execution_count": null,
   "id": "56bccb98",
   "metadata": {},
   "outputs": [],
   "source": []
  }
 ],
 "metadata": {
  "kernelspec": {
   "display_name": "Python 3 (ipykernel)",
   "language": "python",
   "name": "python3"
  },
  "language_info": {
   "codemirror_mode": {
    "name": "ipython",
    "version": 3
   },
   "file_extension": ".py",
   "mimetype": "text/x-python",
   "name": "python",
   "nbconvert_exporter": "python",
   "pygments_lexer": "ipython3",
   "version": "3.11.9"
  }
 },
 "nbformat": 4,
 "nbformat_minor": 5
}
